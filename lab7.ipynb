{
 "cells": [
  {
   "cell_type": "code",
   "execution_count": 10,
   "metadata": {},
   "outputs": [
    {
     "data": {
      "text/plain": [
       "0.8522727272727273"
      ]
     },
     "execution_count": 10,
     "metadata": {},
     "output_type": "execute_result"
    }
   ],
   "source": [
    "import numpy as np\n",
    "from sklearn.model_selection import train_test_split\n",
    "X = np.genfromtxt(\"ionosphere.txt\", delimiter=\",\",usecols=np.arange(34))\n",
    "y = np.genfromtxt(\"ionosphere.txt\", delimiter=\",\", usecols=34,  dtype='int')\n",
    "X_train,X_test,y_train,y_test = train_test_split(X,y,random_state=0)\n",
    "\n",
    "from sklearn.neighbors import KNeighborsClassifier\n",
    "knn = KNeighborsClassifier(n_neighbors=1)\n",
    "knn.fit(X_train,y_train)\n",
    "KNeighborsClassifier(algorithm='auto',leaf_size=30,metric='minkowski',metric_params=None,n_jobs=1,n_neighbors=1,p=2,weights='uniform')\n",
    "\n",
    "def my_dist(x,y):\n",
    "    return np.sum((x-y)**2)\n",
    "knn = KNeighborsClassifier(n_neighbors=1,metric=my_dist)\n",
    "knn.fit(X_train,y_train)\n",
    "\n",
    "KNeighborsClassifier(algorithm='auto', leaf_size=30,metric=my_dist, metric_params=None,n_jobs=1, n_neighbors=1, p=2, weights='uniform')\n",
    "np.mean(knn.predict(X_test)==y_test)"
   ]
  },
  {
   "cell_type": "code",
   "execution_count": 12,
   "metadata": {},
   "outputs": [
    {
     "data": {
      "text/plain": [
       "0.9204545454545454"
      ]
     },
     "execution_count": 12,
     "metadata": {},
     "output_type": "execute_result"
    }
   ],
   "source": [
    "knn = KNeighborsClassifier(n_neighbors=1,p=1)\n",
    "knn.fit(X_train,y_train)\n",
    "np.mean(knn.predict(X_test)==y_test)"
   ]
  },
  {
   "cell_type": "markdown",
   "metadata": {},
   "source": [
    "exercise 1\n",
    "do this later"
   ]
  },
  {
   "cell_type": "code",
   "execution_count": 19,
   "metadata": {},
   "outputs": [
    {
     "data": {
      "text/plain": [
       "0.8863636363636364"
      ]
     },
     "execution_count": 19,
     "metadata": {},
     "output_type": "execute_result"
    }
   ],
   "source": [
    "#finding instances defined by kernels, this is the kernel for polynomial kernel of degree 2\n",
    "def poly_kernel(x,y,d):\n",
    "    return (1+np.dot(x,y))**d\n",
    "d = 2\n",
    "def poly_dist(x,y):\n",
    "    return poly_kernel(x,x,d) + poly_kernel(y,y,d) - 2*poly_kernel(x,y,d)\n",
    "knn = KNeighborsClassifier(n_neighbors=1,metric=poly_dist)\n",
    "knn.fit(X_train,y_train)\n",
    "np.mean(knn.predict(X_test)==y_test)"
   ]
  },
  {
   "cell_type": "code",
   "execution_count": 21,
   "metadata": {},
   "outputs": [
    {
     "data": {
      "text/plain": [
       "0.9659090909090909"
      ]
     },
     "execution_count": 21,
     "metadata": {},
     "output_type": "execute_result"
    }
   ],
   "source": [
    "def rbf_kernel(x,y,gamma):\n",
    "    return np.exp(-gamma*np.sum((x-y)**2))\n",
    "gamma = 10 #param gamma of the rbf kernel\n",
    "def rbf_dist(x,y):\n",
    "    return rbf_kernel(x,x,gamma) + rbf_kernel(y,y,gamma) - 2*rbf_kernel(x,y,gamma)\n",
    "knn = KNeighborsClassifier(n_neighbors=1,metric=rbf_dist)\n",
    "knn.fit(X_train,y_train)\n",
    "np.mean(knn.predict(X_test)==y_test)"
   ]
  },
  {
   "cell_type": "code",
   "execution_count": 25,
   "metadata": {},
   "outputs": [
    {
     "name": "stdout",
     "output_type": "stream",
     "text": [
      "Best CV score: 0.8741654571843253\n",
      "Best parameter gamma: 10\n",
      "Test set score with best parameters: 0.9659090909090909\n"
     ]
    }
   ],
   "source": [
    "from sklearn.model_selection import cross_val_score\n",
    "best_score = 0\n",
    "best_gamma = 0\n",
    "for gamma in [0.01,0.1,1,10,100]:\n",
    "    #for each param, train a model\n",
    "    def rbf_dist(x,y):\n",
    "        return rbf_kernel(x,x,gamma) + rbf_kernel(y,y,gamma) - 2*rbf_kernel(x,y,gamma)\n",
    "    knn = KNeighborsClassifier(n_neighbors=1,metric=rbf_dist)\n",
    "    #perform cross-validation\n",
    "    scores = cross_val_score(knn,X_train,y_train,cv=5)\n",
    "    #compute mean cross-validation accuracy\n",
    "    score = np.mean(scores)\n",
    "    #if we get a better socre store, store the score and parameters\n",
    "    if score > best_score:\n",
    "        best_score = score\n",
    "        best_gamma = gamma\n",
    "#rebuild a model on the full training set\n",
    "def rbf_dist(x,y):\n",
    "    return rbf_kernel(x,x,best_gamma) + rbf_kernel(y,y,best_gamma) - 2*rbf_kernel(x,y,best_gamma)\n",
    "knn = KNeighborsClassifier(n_neighbors=1,metric=rbf_dist)\n",
    "knn.fit(X_train,y_train)\n",
    "test_score = knn.score(X_test,y_test)\n",
    "print(\"Best CV score:\", best_score)\n",
    "print(\"Best parameter gamma:\", best_gamma)\n",
    "print(\"Test set score with best parameters:\", test_score)\n"
   ]
  },
  {
   "cell_type": "code",
   "execution_count": null,
   "metadata": {},
   "outputs": [],
   "source": []
  },
  {
   "cell_type": "code",
   "execution_count": null,
   "metadata": {},
   "outputs": [],
   "source": []
  }
 ],
 "metadata": {
  "kernelspec": {
   "display_name": "Python 3",
   "language": "python",
   "name": "python3"
  },
  "language_info": {
   "codemirror_mode": {
    "name": "ipython",
    "version": 3
   },
   "file_extension": ".py",
   "mimetype": "text/x-python",
   "name": "python",
   "nbconvert_exporter": "python",
   "pygments_lexer": "ipython3",
   "version": "3.8.5"
  }
 },
 "nbformat": 4,
 "nbformat_minor": 4
}
