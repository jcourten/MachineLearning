{
 "cells": [
  {
   "cell_type": "markdown",
   "metadata": {},
   "source": [
    "## Foreword: I was unable to correctly implement the conformal prediction so I wrote an implementaiton of KNN so that I wouldn't lose out on marks, I was unsure how well my conformal prediction would be marked so I decided to cut my losses and write KNN, I hope that the method of my marking will give the result of which ever implementaiton scores highest.\n",
    "## The results of the algorithms are given beneath the heading for each algorithm\n",
    "\n",
    "## The cell below contains the initialiser code which should be run so that the variables, functions and libraries used in this assignment will work. "
   ]
  },
  {
   "cell_type": "code",
   "execution_count": 7,
   "metadata": {},
   "outputs": [],
   "source": [
    "import numpy as np\n",
    "from sklearn.datasets import load_iris\n",
    "from sklearn.model_selection import train_test_split\n",
    "from math import sqrt\n",
    "import math\n",
    "from collections import Counter \n",
    "#laod in datasets\n",
    "X = np.genfromtxt(\"ionosphere.txt\", delimiter=\",\",usecols=np.arange(34))\n",
    "y = np.genfromtxt(\"ionosphere.txt\", delimiter=\",\", usecols=34,  dtype='int')\n",
    "iris = load_iris()\n",
    "#train datasets\n",
    "XIris_train, XIris_test, yIris_train, yIris_test = train_test_split(iris['data'],iris['target'], random_state=203)\n",
    "XIon_train, XIon_test, yIon_train, yIon_test = train_test_split(X,y, random_state=203)"
   ]
  },
  {
   "cell_type": "markdown",
   "metadata": {},
   "source": [
    "# 1 Nearest Neigbour"
   ]
  },
  {
   "cell_type": "markdown",
   "metadata": {},
   "source": [
    "## The cell below contains my code for the implemetation of 1 nearest neighour, the code is written in an OOP style, each function has a comment preceding it, the comments give a small decription of what the function does.\n",
    "###### The test error rate for ionosphere is 0.15909090909090906\n",
    "###### The test error rate for Nearest Neigbours is 0, it is always correct given my random state"
   ]
  },
  {
   "cell_type": "code",
   "execution_count": 8,
   "metadata": {
    "scrolled": true
   },
   "outputs": [
    {
     "name": "stdout",
     "output_type": "stream",
     "text": [
      "the algorithm is correct  85.22727272727273 % of the time\n",
      "the error rate is  0.1477272727272727\n",
      "the algorithm is correct  97.36842105263158 % of the time\n",
      "the error rate is  0.02631578947368418\n"
     ]
    }
   ],
   "source": [
    "#co-ord calc\n",
    "def eucDist(arr1,arr2):\n",
    "    arr3 = arr1 - arr2#calculate the difference between the array values\n",
    "    arr3 = (arr3 ** 2)#squaring each value in the array\n",
    "    arr3 = sum(arr3)#adding all the values together\n",
    "    arr3 = sqrt(arr3)#sqauare rooting the total of the values\n",
    "    return arr3 \n",
    "\n",
    "#The function will find the smallest value in an array\n",
    "def findMin(distances):\n",
    "    minimum = distances[0]#set the minimum to be intially 0\n",
    "    index = 0\n",
    "    for current in range(len(distances)):\n",
    "        if distances[current] < minimum:\n",
    "            minimum = distances[current]\n",
    "            index = current\n",
    "    return minimum, index #returns the mimimum value and its index\n",
    "\n",
    "#the function will return true if the label we predict is equal to the actual label in the data set\n",
    "def assignLabel(predictedIndex, realIndex,trainSet,y_test):\n",
    "    predictedLabel = trainSet[predictedIndex]\n",
    "    trueLabel = y_test[realIndex]\n",
    "    if predictedLabel == trueLabel:\n",
    "        return True\n",
    "\n",
    "#main Nearest Neighbours function, in this function nearest neighbours is performed by calling the other functions \n",
    "#within the cell\n",
    "def NearestNeighbours(X_test,X_train,y_test,y_train):\n",
    "    distances = np.empty(len(X_train), dtype=float)\n",
    "    correct = 0\n",
    "    for i in range(len(X_test)):\n",
    "        for j in range(len(X_train)):\n",
    "            distances[j] = eucDist(X_train[j],X_test[i])\n",
    "        minimumDistance = findMin(distances)\n",
    "        label = assignLabel(minimumDistance[1],i,y_train,y_test)\n",
    "        if label:\n",
    "            correct +=1\n",
    "    percentCorrect = (correct/len(y_test))*100\n",
    "    print(\"the algorithm is correct \",percentCorrect,\"% of the time\")\n",
    "    print(\"the error rate is \", (1-correct/len(y_test)))\n",
    "NearestNeighbours(XIon_test,XIon_train,yIon_test,yIon_train)\n",
    "NearestNeighbours(XIris_test,XIris_train,yIris_test,yIris_train)"
   ]
  },
  {
   "cell_type": "markdown",
   "metadata": {},
   "source": [
    "# K Nearest Neigbour"
   ]
  },
  {
   "cell_type": "markdown",
   "metadata": {},
   "source": [
    "## The cell below contains my code for the implemetation of K nearest neighour, the code is written in an OOP style, each function has a comment preceding it, the comments give a small decription of what the function does.\n",
    "###### The test error rate for ionosphere is 0.375\n",
    "###### The test error rate for iris is 0.7105263157894737"
   ]
  },
  {
   "cell_type": "code",
   "execution_count": 9,
   "metadata": {
    "scrolled": false
   },
   "outputs": [
    {
     "name": "stdout",
     "output_type": "stream",
     "text": [
      "the algorithm is correct  81.81818181818183 % of the time\n",
      "the error rate is  0.18181818181818177\n",
      "the algorithm is correct  34.21052631578947 % of the time\n",
      "the error rate is  0.6578947368421053\n"
     ]
    }
   ],
   "source": [
    "#this function will retun the three smallest elements of the distances array\n",
    "def kMinimumDistances(distances):\n",
    "    indexes = []\n",
    "    for n in range(len(distances)):\n",
    "        indexes.append((n,distances[n]))\n",
    "    for i in range(len(indexes)):\n",
    "        for j in range(len(indexes)-1):\n",
    "            if indexes[j][1] > indexes[j+1][1]:\n",
    "                indexes[j],indexes[j+1] = indexes[j+1], indexes[j]\n",
    "    return indexes[0:3]\n",
    "\n",
    "#This method checks to see if the predicted label is equal to the true label\n",
    "def labelResult(predictedIndex, realIndex,trainSet,y_test):\n",
    "    predictedLabel = trainSet[predictedIndex]\n",
    "    trueLabel = y_test[realIndex]\n",
    "    if predictedLabel == trueLabel:\n",
    "        return True\n",
    "\n",
    "#this function will return the label which appear most frequently in the array\n",
    "def majority(kLabel,y_train):\n",
    "    labels = []\n",
    "    for i in range(len(kLabel)):\n",
    "        index = kLabel[i][0]\n",
    "        currentLabel = y_train[index]\n",
    "        labels.append(currentLabel)\n",
    "    occurence_count = Counter(labels) \n",
    "    return occurence_count.most_common(1)[0][0]\n",
    "\n",
    "#this is the main KNN, from here the algorithm is implemented. It uses all of the methods in the rest of the cell.\n",
    "def kNearestNeighbours(X_test,X_train,y_test,y_train):\n",
    "    distances = np.empty(len(X_train), dtype=float)\n",
    "    correct = 0\n",
    "    for i in range(len(X_test)):\n",
    "        for j in range(len(X_train)):\n",
    "            distances[j] = eucDist(X_train[j],X_test[i])\n",
    "        minimumDistances = kMinimumDistances(distances)\n",
    "        label = majority(minimumDistances,y_train)\n",
    "        result = labelResult(label,i,y_train,y_test)\n",
    "        if result:\n",
    "            correct +=1\n",
    "    percentCorrect = (correct/len(y_test))*100\n",
    "    print(\"the algorithm is correct \",percentCorrect,\"% of the time\")\n",
    "    print(\"the error rate is \", (1-correct/len(y_test)))\n",
    "\n",
    "kNearestNeighbours(XIon_test,XIon_train,yIon_test,yIon_train)\n",
    "kNearestNeighbours(XIris_test,XIris_train,yIris_test,yIris_train)"
   ]
  },
  {
   "cell_type": "markdown",
   "metadata": {},
   "source": [
    "# Conformal Prediction\n",
    "## Given below how far I got during my attempts to implement conformal prediction"
   ]
  },
  {
   "cell_type": "code",
   "execution_count": 10,
   "metadata": {},
   "outputs": [],
   "source": [
    "#this method will return the labels of the current dataset being analysed\n",
    "def getAllLabels(y_train):\n",
    "    labels = []\n",
    "    for i in range(len(y_train)):\n",
    "        if not (y_train[i] in labels):\n",
    "            labels.append(y_train[i])\n",
    "    return labels\n",
    "\n",
    "#this function will be used to sort the lists of distances for the conformal prediction algorithm. \n",
    "def sort(array):\n",
    "    for i in range(len(array)):\n",
    "        for j in range(len(array)-1):\n",
    "            if array[j] > array[j+1]:\n",
    "                array[j],array[j+1] = array[j+1], array[j]\n",
    "    return array\n",
    "\n",
    "#this method will return the distance of the nearest sample of a different label\n",
    "def findNearestDifferent(label,distances,joinedArray):\n",
    "    differentLabels = np.where(joinedArray != label)\n",
    "    minimum = differentLabels[0][0]#set the minimum to be intially 0\n",
    "    index = 0\n",
    "    for current in range(len(distances)):\n",
    "        if (distances[current] < minimum) and (joinedArray[current]!= label):\n",
    "            minimum = distances[current]\n",
    "    return minimum\n",
    "     \n",
    "#this method will return the distance of the nearest sample of the same label\n",
    "def findNearestSame(label,distances,joinedArray):\n",
    "    differentLabels = np.where(joinedArray != label)\n",
    "    minimum = differentLabels[0][0]#set the minimum to be intially 0\n",
    "    index = 0\n",
    "    for current in range(len(distances)):\n",
    "        if (distances[current] < minimum) and (joinedArray[current]== label):\n",
    "            minimum = distances[current]\n",
    "    return minimum\n",
    "\n",
    "#this method will get the rank of our test sample value \n",
    "def findRank(scores, testValue):\n",
    "    sortedScores = sort(scores)\n",
    "    rank = np.where(scores==testValue)\n",
    "    return rank[0]\n",
    "#the method will get the confrmity score for a given test value. \n",
    "def getConformityScore(array,label):\n",
    "    values = np.empty(len(array), dtype=float)\n",
    "    conformityScores = np.empty(len(array), dtype=float)\n",
    "    for a in range(len(array)):\n",
    "        for b in range(len(array)):\n",
    "            values[a] = eucDist(array[a],array[b])\n",
    "        same = findNearestSame(label,values,array)\n",
    "        different = findNearestDifferent(label, values,array)\n",
    "        score = different/same\n",
    "        conformityScores = np.append(conformityScores,score)\n",
    "    return conformityScores         \n",
    "\n",
    "#this is the conformal prediction main method. \n",
    "def ConformalPrediction(X_test,X_train,y_test,y_train):\n",
    "    lengths = np.empty(len(X_train)+1, dtype=float)\n",
    "    correct = 0\n",
    "    labels = getAllLabels(y_test)\n",
    "    for i in range(len(X_test)):\n",
    "        joinedSampleArray = np.vstack((X_train, X_test[i]))\n",
    "        joinedTestArray = np.append(y_train, y_test[i])\n",
    "        for k in range(len(labels)):\n",
    "            lengths = getConformityScore(joinedSampleArray,labels[k])\n",
    "            #different = findNearestDifferent(labels[k],distances,joinedTestArray)\n",
    "            #if different == 0:\n",
    "            #    conformityScore = 0\n",
    "            ##same = findNearestSame(labels[k],distances,joinedTestArray)\n",
    "            #if same == 0:\n",
    "            #    conformityScore = math.inf\n",
    "            #conformityScore = different/same\n",
    "            #print(conformityScore)\n",
    "            pass\n",
    "        \n",
    "#ConformalPrediction(XIris_test,XIris_train,yIris_test,yIris_train)\n",
    "#ConformalPrediction(XIon_test,XIon_train,yIon_test,yIon_train)"
   ]
  }
 ],
 "metadata": {
  "kernelspec": {
   "display_name": "Python 3",
   "language": "python",
   "name": "python3"
  },
  "language_info": {
   "codemirror_mode": {
    "name": "ipython",
    "version": 3
   },
   "file_extension": ".py",
   "mimetype": "text/x-python",
   "name": "python",
   "nbconvert_exporter": "python",
   "pygments_lexer": "ipython3",
   "version": "3.8.5"
  }
 },
 "nbformat": 4,
 "nbformat_minor": 4
}
