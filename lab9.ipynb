{
 "cells": [
  {
   "cell_type": "code",
   "execution_count": 3,
   "metadata": {},
   "outputs": [],
   "source": [
    "#importing and creating pipelines\n",
    "from sklearn.preprocessing import MinMaxScaler\n",
    "from sklearn.svm import SVC\n",
    "from sklearn.pipeline import Pipeline\n",
    "from sklearn.pipeline import make_pipeline\n",
    "#standard syntax\n",
    "pipe_long = Pipeline([(\"scaler\",MinMaxScaler()),(\"svm\",SVC())])\n",
    "#abbreviated syntax\n",
    "pipe_short = make_pipeline(MinMaxScaler(),SVC())"
   ]
  },
  {
   "cell_type": "code",
   "execution_count": 4,
   "metadata": {},
   "outputs": [
    {
     "data": {
      "text/plain": [
       "[('minmaxscaler', MinMaxScaler(copy=True, feature_range=(0, 1))),\n",
       " ('svc',\n",
       "  SVC(C=1.0, break_ties=False, cache_size=200, class_weight=None, coef0=0.0,\n",
       "      decision_function_shape='ovr', degree=3, gamma='scale', kernel='rbf',\n",
       "      max_iter=-1, probability=False, random_state=None, shrinking=True,\n",
       "      tol=0.001, verbose=False))]"
      ]
     },
     "execution_count": 4,
     "metadata": {},
     "output_type": "execute_result"
    }
   ],
   "source": [
    "pipe_short.steps"
   ]
  },
  {
   "cell_type": "code",
   "execution_count": 6,
   "metadata": {},
   "outputs": [
    {
     "data": {
      "text/plain": [
       "[('minmaxscaler-1', MinMaxScaler(copy=True, feature_range=(0, 1))),\n",
       " ('normalizer', Normalizer(copy=True, norm='l2')),\n",
       " ('minmaxscaler-2', MinMaxScaler(copy=True, feature_range=(0, 1)))]"
      ]
     },
     "execution_count": 6,
     "metadata": {},
     "output_type": "execute_result"
    }
   ],
   "source": [
    "from sklearn.preprocessing import Normalizer\n",
    "pipe = make_pipeline(MinMaxScaler(),Normalizer(),MinMaxScaler())\n",
    "pipe.steps"
   ]
  },
  {
   "cell_type": "code",
   "execution_count": 7,
   "metadata": {},
   "outputs": [
    {
     "data": {
      "text/plain": [
       "0.972027972027972"
      ]
     },
     "execution_count": 7,
     "metadata": {},
     "output_type": "execute_result"
    }
   ],
   "source": [
    "from sklearn.datasets import load_breast_cancer\n",
    "from sklearn.model_selection import train_test_split\n",
    "cancer = load_breast_cancer()\n",
    "X_train,X_test,y_train,y_test = train_test_split(cancer.data,cancer.target,random_state=0)\n",
    "pipe = make_pipeline(MinMaxScaler(),SVC())\n",
    "pipe.fit(X_train,y_train)\n",
    "pipe.score(X_test,y_test)"
   ]
  },
  {
   "cell_type": "code",
   "execution_count": 8,
   "metadata": {},
   "outputs": [
    {
     "name": "stdout",
     "output_type": "stream",
     "text": [
      "best cross-validation accuracy:  0.9812311901504789\n",
      "test set score:  0.972027972027972\n",
      "best parameters:  {'svc__C': 1, 'svc__gamma': 1}\n"
     ]
    }
   ],
   "source": [
    "#tuning the parameters \n",
    "from sklearn.model_selection import GridSearchCV\n",
    "param_grid = {'svc__C':[0.01,0.1,1,10,100],'svc__gamma':[0.01,0.1,1,10,100]}\n",
    "grid = GridSearchCV(pipe,param_grid=param_grid, cv=5)\n",
    "grid.fit(X_train,y_train)\n",
    "print(\"best cross-validation accuracy: \",grid.best_score_)\n",
    "print(\"test set score: \",grid.score(X_test,y_test))\n",
    "print(\"best parameters: \",grid.best_params_)"
   ]
  },
  {
   "cell_type": "code",
   "execution_count": 9,
   "metadata": {},
   "outputs": [
    {
     "data": {
      "text/plain": [
       "Pipeline(memory=None,\n",
       "         steps=[('minmaxscaler', MinMaxScaler(copy=True, feature_range=(0, 1))),\n",
       "                ('svc',\n",
       "                 SVC(C=1, break_ties=False, cache_size=200, class_weight=None,\n",
       "                     coef0=0.0, decision_function_shape='ovr', degree=3,\n",
       "                     gamma=1, kernel='rbf', max_iter=-1, probability=False,\n",
       "                     random_state=None, shrinking=True, tol=0.001,\n",
       "                     verbose=False))],\n",
       "         verbose=False)"
      ]
     },
     "execution_count": 9,
     "metadata": {},
     "output_type": "execute_result"
    }
   ],
   "source": [
    "grid.best_estimator_"
   ]
  },
  {
   "cell_type": "code",
   "execution_count": 10,
   "metadata": {},
   "outputs": [
    {
     "data": {
      "text/plain": [
       "{'minmaxscaler': MinMaxScaler(copy=True, feature_range=(0, 1)),\n",
       " 'svc': SVC(C=1, break_ties=False, cache_size=200, class_weight=None, coef0=0.0,\n",
       "     decision_function_shape='ovr', degree=3, gamma=1, kernel='rbf', max_iter=-1,\n",
       "     probability=False, random_state=None, shrinking=True, tol=0.001,\n",
       "     verbose=False)}"
      ]
     },
     "execution_count": 10,
     "metadata": {},
     "output_type": "execute_result"
    }
   ],
   "source": [
    "grid.best_estimator_.named_steps"
   ]
  },
  {
   "cell_type": "code",
   "execution_count": 11,
   "metadata": {},
   "outputs": [
    {
     "data": {
      "text/plain": [
       "SVC(C=1, break_ties=False, cache_size=200, class_weight=None, coef0=0.0,\n",
       "    decision_function_shape='ovr', degree=3, gamma=1, kernel='rbf', max_iter=-1,\n",
       "    probability=False, random_state=None, shrinking=True, tol=0.001,\n",
       "    verbose=False)"
      ]
     },
     "execution_count": 11,
     "metadata": {},
     "output_type": "execute_result"
    }
   ],
   "source": [
    "grid.best_estimator_.named_steps[\"svc\"]"
   ]
  },
  {
   "cell_type": "code",
   "execution_count": 12,
   "metadata": {},
   "outputs": [
    {
     "data": {
      "text/plain": [
       "array([45, 40], dtype=int32)"
      ]
     },
     "execution_count": 12,
     "metadata": {},
     "output_type": "execute_result"
    }
   ],
   "source": [
    "grid.best_estimator_.named_steps[\"svc\"].n_support_"
   ]
  },
  {
   "cell_type": "code",
   "execution_count": 13,
   "metadata": {},
   "outputs": [
    {
     "data": {
      "text/plain": [
       "array([0.96666667, 0.96666667, 0.96666667, 0.93333333, 1.        ])"
      ]
     },
     "execution_count": 13,
     "metadata": {},
     "output_type": "execute_result"
    }
   ],
   "source": [
    "from sklearn.datasets import load_iris\n",
    "from sklearn.model_selection import cross_val_score\n",
    "iris = load_iris()\n",
    "svm = SVC()\n",
    "cross_val_score(svm,iris.data,iris.target)\n"
   ]
  },
  {
   "cell_type": "code",
   "execution_count": 14,
   "metadata": {},
   "outputs": [
    {
     "data": {
      "text/plain": [
       "KFold(n_splits=5, random_state=0, shuffle=True)"
      ]
     },
     "execution_count": 14,
     "metadata": {},
     "output_type": "execute_result"
    }
   ],
   "source": [
    "from sklearn.model_selection import KFold\n",
    "kf = KFold(shuffle=True,random_state=0)\n",
    "kf"
   ]
  },
  {
   "cell_type": "code",
   "execution_count": 16,
   "metadata": {},
   "outputs": [
    {
     "data": {
      "text/plain": [
       "5"
      ]
     },
     "execution_count": 16,
     "metadata": {},
     "output_type": "execute_result"
    }
   ],
   "source": [
    "kf.get_n_splits()"
   ]
  },
  {
   "cell_type": "code",
   "execution_count": 18,
   "metadata": {},
   "outputs": [
    {
     "name": "stdout",
     "output_type": "stream",
     "text": [
      "current fold:  [  7   8  16  22  24  26  33  37  40  44  45  51  54  62  63  66  71  73\n",
      "  76  78  86  90  93  97 100 107 114 121 126 134]\n",
      "the rest of the training set:  [  0   1   2   3   4   5   6   9  10  11  12  13  14  15  17  18  19  20\n",
      "  21  23  25  27  28  29  30  31  32  34  35  36  38  39  41  42  43  46\n",
      "  47  48  49  50  52  53  55  56  57  58  59  60  61  64  65  67  68  69\n",
      "  70  72  74  75  77  79  80  81  82  83  84  85  87  88  89  91  92  94\n",
      "  95  96  98  99 101 102 103 104 105 106 108 109 110 111 112 113 115 116\n",
      " 117 118 119 120 122 123 124 125 127 128 129 130 131 132 133 135 136 137\n",
      " 138 139 140 141 142 143 144 145 146 147 148 149]\n",
      "current fold:  [  2  10  18  27  43  50  56  59  60  61  69  80  83  84  92 106 108 112\n",
      " 116 119 123 127 132 133 135 137 141 144 146 147]\n",
      "the rest of the training set:  [  0   1   3   4   5   6   7   8   9  11  12  13  14  15  16  17  19  20\n",
      "  21  22  23  24  25  26  28  29  30  31  32  33  34  35  36  37  38  39\n",
      "  40  41  42  44  45  46  47  48  49  51  52  53  54  55  57  58  62  63\n",
      "  64  65  66  67  68  70  71  72  73  74  75  76  77  78  79  81  82  85\n",
      "  86  87  88  89  90  91  93  94  95  96  97  98  99 100 101 102 103 104\n",
      " 105 107 109 110 111 113 114 115 117 118 120 121 122 124 125 126 128 129\n",
      " 130 131 134 136 138 139 140 142 143 145 148 149]\n",
      "current fold:  [  3   6  11  12  13  15  20  30  46  48  52  64  68  85  89  91  94  95\n",
      "  96  98 101 102 104 109 110 111 120 125 128 149]\n",
      "the rest of the training set:  [  0   1   2   4   5   7   8   9  10  14  16  17  18  19  21  22  23  24\n",
      "  25  26  27  28  29  31  32  33  34  35  36  37  38  39  40  41  42  43\n",
      "  44  45  47  49  50  51  53  54  55  56  57  58  59  60  61  62  63  65\n",
      "  66  67  69  70  71  72  73  74  75  76  77  78  79  80  81  82  83  84\n",
      "  86  87  88  90  92  93  97  99 100 103 105 106 107 108 112 113 114 115\n",
      " 116 117 118 119 121 122 123 124 126 127 129 130 131 132 133 134 135 136\n",
      " 137 138 139 140 141 142 143 144 145 146 147 148]\n",
      "current fold:  [  0   1   4   5  17  23  28  31  32  34  35  38  41  42  53  55  57  65\n",
      "  74  75 105 113 118 124 129 131 138 139 143 148]\n",
      "the rest of the training set:  [  2   3   6   7   8   9  10  11  12  13  14  15  16  18  19  20  21  22\n",
      "  24  25  26  27  29  30  33  36  37  39  40  43  44  45  46  47  48  49\n",
      "  50  51  52  54  56  58  59  60  61  62  63  64  66  67  68  69  70  71\n",
      "  72  73  76  77  78  79  80  81  82  83  84  85  86  87  88  89  90  91\n",
      "  92  93  94  95  96  97  98  99 100 101 102 103 104 106 107 108 109 110\n",
      " 111 112 114 115 116 117 119 120 121 122 123 125 126 127 128 130 132 133\n",
      " 134 135 136 137 140 141 142 144 145 146 147 149]\n",
      "current fold:  [  9  14  19  21  25  29  36  39  47  49  58  67  70  72  77  79  81  82\n",
      "  87  88  99 103 115 117 122 130 136 140 142 145]\n",
      "the rest of the training set:  [  0   1   2   3   4   5   6   7   8  10  11  12  13  15  16  17  18  20\n",
      "  22  23  24  26  27  28  30  31  32  33  34  35  37  38  40  41  42  43\n",
      "  44  45  46  48  50  51  52  53  54  55  56  57  59  60  61  62  63  64\n",
      "  65  66  68  69  71  73  74  75  76  78  80  83  84  85  86  89  90  91\n",
      "  92  93  94  95  96  97  98 100 101 102 104 105 106 107 108 109 110 111\n",
      " 112 113 114 116 118 119 120 121 123 124 125 126 127 128 129 131 132 133\n",
      " 134 135 137 138 139 141 143 144 146 147 148 149]\n"
     ]
    }
   ],
   "source": [
    "for rest_index,fold_index in kf.split(iris.data):\n",
    "    print('current fold: ',fold_index)\n",
    "    print(\"the rest of the training set: \",rest_index)\n",
    "    X_rest,X_fold = iris.data[rest_index],iris.data[fold_index]\n",
    "    y_rest,y_fold = iris.target[rest_index],iris.target[fold_index]\n",
    "    svm.fit(X_rest,y_rest)\n",
    "    #print(svm.score(X_fold,y_fold))"
   ]
  },
  {
   "cell_type": "markdown",
   "metadata": {},
   "source": [
    "1.0\n",
    "0.8\n",
    "1.0\n",
    "0.9666666666666667\n",
    "0.9333333333333333\n"
   ]
  },
  {
   "cell_type": "code",
   "execution_count": 19,
   "metadata": {},
   "outputs": [
    {
     "data": {
      "text/plain": [
       "array([[ 0.87798384, -0.16723586,  2.20434741],\n",
       "       [ 1.02135693, -0.15160776,  2.14456263]])"
      ]
     },
     "execution_count": 19,
     "metadata": {},
     "output_type": "execute_result"
    }
   ],
   "source": [
    "from sklearn.model_selection import train_test_split\n",
    "X_train,X_test,y_train,y_test = train_test_split(iris.data,iris.target,train_size=6,test_size=None,random_state=0)\n",
    "svm = SVC()\n",
    "svm.fit(X_train,y_train)\n",
    "svm.decision_function(X_test[0:2])"
   ]
  },
  {
   "cell_type": "code",
   "execution_count": 20,
   "metadata": {},
   "outputs": [
    {
     "data": {
      "text/plain": [
       "array([2, 1])"
      ]
     },
     "execution_count": 20,
     "metadata": {},
     "output_type": "execute_result"
    }
   ],
   "source": [
    "y_test[0:2]"
   ]
  },
  {
   "cell_type": "code",
   "execution_count": null,
   "metadata": {},
   "outputs": [],
   "source": [
    "X_train,X_test,y_train,y_test = train_test_split(iris.data,iris.target,random_state=0)\n",
    "import math\n",
    "import numpy as np\n",
    "def dist(x1,x2):\n",
    "    return np.linalg.norm(x1-x2)\n",
    "n_train = X_train.shape[0]\n",
    "n_test = X_test.shape[0]\n",
    "dist_own = math.inf*np.ones(n_train)\n",
    "dist_other = math.inf*np.ones(n_train)\n",
    "for i in range(n_train-1):\n",
    "    for j in range(i+1,n_train):\n",
    "        current_dist = dist(X_train[i],X_train[j])\n",
    "        if (y_train[i]==y_train[j]):\n",
    "            if (current_dist < dist_own[i]):\n",
    "                dist_own[i] = current_dist\n",
    "            if (current_dist < dist_own[j]):\n",
    "                dist_own[j] - current_dist\n",
    "        else:\n",
    "            if (current_dist < dist_other[i]):\n",
    "                dist_other[i] = current_dist\n",
    "            if (current_dist < dist_other[j]):\n",
    "                dist\n",
    "            "
   ]
  }
 ],
 "metadata": {
  "kernelspec": {
   "display_name": "Python 3",
   "language": "python",
   "name": "python3"
  },
  "language_info": {
   "codemirror_mode": {
    "name": "ipython",
    "version": 3
   },
   "file_extension": ".py",
   "mimetype": "text/x-python",
   "name": "python",
   "nbconvert_exporter": "python",
   "pygments_lexer": "ipython3",
   "version": "3.8.5"
  }
 },
 "nbformat": 4,
 "nbformat_minor": 4
}
